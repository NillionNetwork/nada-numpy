{
 "cells": [
  {
   "cell_type": "code",
   "execution_count": 13,
   "metadata": {},
   "outputs": [],
   "source": [
    "from sklearn.linear_model import Ridge\n",
    "import numpy as np\n",
    "\n",
    "LAMBDA = 1\n",
    "LOG_SCALE = 8\n",
    "SCALE = 1 << LOG_SCALE\n",
    "PRIME_64 = 18446744072637906947\n",
    "PRIME_128 = 340282366920938463463374607429104828419\n",
    "PRIME_256 = 0xFFFFFFFFFFFFFFFFFFFFFFFFFFFFFFFFFFFFFFFFFFFFFFFFFFFFFFFF98C00003\n",
    "PRIME = PRIME_256"
   ]
  },
  {
   "cell_type": "code",
   "execution_count": 16,
   "metadata": {},
   "outputs": [
    {
     "name": "stdout",
     "output_type": "stream",
     "text": [
      "1.0 10.0\n"
     ]
    },
    {
     "data": {
      "text/plain": [
       "(array([[-1.        , -0.77777778, -0.55555556],\n",
       "        [-0.33333333, -0.11111111,  0.11111111],\n",
       "        [ 0.33333333,  0.55555556,  1.        ]]),\n",
       " array([-1.        , -0.77777778, -0.55555556]))"
      ]
     },
     "execution_count": 16,
     "metadata": {},
     "output_type": "execute_result"
    }
   ],
   "source": [
    "n_samples, n_features = 3, 3\n",
    "rng = np.random.RandomState(0)\n",
    "y = np.array([1.0, 2.0, 3.0])\n",
    "X = np.array([[1.0, 2.0, 3.0], [4.0, 5.0, 6.0], [7.0, 8.0, 10.0]])\n",
    "# X = np.random.rand(n_samples, n_features)\n",
    "# y = np.random.rand(n_samples)\n",
    "dmin = np.min([np.min(X), np.min(y)])\n",
    "dmax = np.max([np.max(X), np.max(y)])\n",
    "print(dmin, dmax)\n",
    "minmax = lambda x: ((x - dmin) / (dmax - dmin)) * 2 - 1\n",
    "y = minmax(y)\n",
    "X = minmax(X)\n",
    "X, y"
   ]
  },
  {
   "cell_type": "code",
   "execution_count": 17,
   "metadata": {},
   "outputs": [
    {
     "name": "stdout",
     "output_type": "stream",
     "text": [
      "    A_0_0:\n",
      "        SecretInteger: \"-256\"\n",
      "    A_0_1:\n",
      "        SecretInteger: \"-199\"\n",
      "    A_0_2:\n",
      "        SecretInteger: \"-142\"\n",
      "    A_1_0:\n",
      "        SecretInteger: \"-85\"\n",
      "    A_1_1:\n",
      "        SecretInteger: \"-28\"\n",
      "    A_1_2:\n",
      "        SecretInteger: \"28\"\n",
      "    A_2_0:\n",
      "        SecretInteger: \"85\"\n",
      "    A_2_1:\n",
      "        SecretInteger: \"142\"\n",
      "    A_2_2:\n",
      "        SecretInteger: \"256\"\n",
      "    b_0:\n",
      "        SecretInteger: \"-256\"\n",
      "    b_1:\n",
      "        SecretInteger: \"-199\"\n",
      "    b_2:\n",
      "        SecretInteger: \"-142\"\n"
     ]
    }
   ],
   "source": [
    "def array_to_str(arr, prefix):\n",
    "    if len(arr.shape) == 1:\n",
    "        return \"\\n\".join([f\"    {prefix}_{i}:\\n        SecretInteger: \\\"{round(x * SCALE)}\\\"\" for i, x in enumerate(arr)]) \n",
    "    else:\n",
    "        return \"\\n\".join([array_to_str(arr[i], f\"{prefix}_{i}\") for i in range(arr.shape[0])]) + \"\\n\"\n",
    "\n",
    "print(array_to_str(X, \"A\") + array_to_str(y, \"b\"))"
   ]
  },
  {
   "cell_type": "code",
   "execution_count": 18,
   "metadata": {},
   "outputs": [
    {
     "name": "stdout",
     "output_type": "stream",
     "text": [
      "This is the input to the program:\n",
      "A: [[-256 -199 -142]\n",
      " [ -85  -28   28]\n",
      " [  85  142  256]]\n",
      "b: [-256 -199 -142]\n",
      "lambda:  65536\n",
      "EXPECTED OUTPUT:  [ 3.33333333e+00 -3.00000000e+00 -2.09082751e-13] 0.0\n",
      "For the output, we print the results:\n",
      "w: [-1.30064019 -0.91010335 -3.95961349]\n",
      "z: 7496337347136\n"
     ]
    }
   ],
   "source": [
    "# LINEAR REGRESSION:\n",
    "clf = Ridge(alpha=0, fit_intercept=False)\n",
    "clf.fit(X, y)\n",
    "# print(X, y)\n",
    "print(\"This is the input to the program:\")\n",
    "print(\"A:\", (X * SCALE).astype(np.int64))\n",
    "print(\"b:\", (y * SCALE).astype(np.int64))\n",
    "print(\"lambda: \", LAMBDA * SCALE**2)\n",
    "print(\"EXPECTED OUTPUT: \", clf.coef_, clf.intercept_)\n",
    "\n",
    "print(\"For the output, we print the results:\")\n",
    "w_0 = -9750037619520\n",
    "w_1 = -6822441714528\n",
    "w_2 = -29682598492800\n",
    "b_0 = 7496337347136\n",
    "\n",
    "w = np.array([w_0, w_1, w_2]) / b_0\n",
    "print(\"w:\", w)\n",
    "print(\"z:\", b_0)"
   ]
  }
 ],
 "metadata": {
  "kernelspec": {
   "display_name": "Python 3",
   "language": "python",
   "name": "python3"
  },
  "language_info": {
   "codemirror_mode": {
    "name": "ipython",
    "version": 3
   },
   "file_extension": ".py",
   "mimetype": "text/x-python",
   "name": "python",
   "nbconvert_exporter": "python",
   "pygments_lexer": "ipython3",
   "version": "3.12.3"
  }
 },
 "nbformat": 4,
 "nbformat_minor": 2
}
