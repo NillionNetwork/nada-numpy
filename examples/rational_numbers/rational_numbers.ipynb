{
  "cells": [
    {
      "cell_type": "markdown",
      "metadata": {
        "id": "tOKatV-Av_7J"
      },
      "source": [
        "# 👋 Welcome to Nillion's Nada Numpy rational numbers example"
      ]
    },
    {
      "cell_type": "markdown",
      "metadata": {
        "id": "s1idKo5Rv_7K"
      },
      "source": [
        "[![Open in Colab](https://colab.research.google.com/assets/colab-badge.svg)](https://colab.research.google.com/github/NillionNetwork/nada-numpy/blob/main/examples/rational_numbers/rational_numbers.ipynb)"
      ]
    },
    {
      "cell_type": "markdown",
      "metadata": {
        "id": "IeHr5pAHv_7K"
      },
      "source": [
        "This notebook will get you familiar with rational numbers in `nada-numpy`, Nillion's data processing framework on top of the Nada dsl\n",
        "\n",
        "We are really excited for developers to build with our SDK, if you have any questions please do reach out to us on:\n",
        "\n",
        "[![Discord](https://img.shields.io/badge/Discord-nillionnetwork-%235865F2?logo=discord)](https://discord.gg/nillionnetwork)\n",
        "[![GitHub Discussions](https://img.shields.io/badge/GitHub_Discussions-NillionNetwork-%23181717?logo=github)](https://github.com/orgs/NillionNetwork/discussions)"
      ]
    },
    {
      "cell_type": "markdown",
      "metadata": {
        "id": "gcgBmJtPv_7K"
      },
      "source": [
        "# 1. Set up environment"
      ]
    },
    {
      "cell_type": "markdown",
      "metadata": {
        "id": "vL85sjrzv_7K"
      },
      "source": [
        "The boring part!\n",
        "\n",
        "Installs all required dependencies and spins up a local devnet that will run Nada programs"
      ]
    },
    {
      "cell_type": "code",
      "execution_count": 1,
      "metadata": {
        "id": "o4PXBlE2v_7K"
      },
      "outputs": [],
      "source": [
        "%%capture\n",
        "!pip install nada-numpy~=0.3.0"
      ]
    },
    {
      "cell_type": "code",
      "execution_count": 2,
      "metadata": {
        "id": "rmTAavFov_7L"
      },
      "outputs": [],
      "source": [
        "import os\n",
        "import time\n",
        "import sys\n",
        "import uuid"
      ]
    },
    {
      "cell_type": "code",
      "execution_count": null,
      "metadata": {},
      "outputs": [],
      "source": [
        "# Configure telemetry settings\n",
        "enable_telemetry = True  #@param {type:\"boolean\"}\n",
        "my_github_username = \"your-github-username\"  #@param {type:\"string\"}"
      ]
    },
    {
      "cell_type": "code",
      "execution_count": 3,
      "metadata": {
        "colab": {
          "base_uri": "https://localhost:8080/"
        },
        "id": "GcsYIHINv_7L",
        "outputId": "1d070bab-1078-4491-906c-7403c9b1c2dc"
      },
      "outputs": [
        {
          "name": "stdout",
          "output_type": "stream",
          "text": [
            "  % Total    % Received % Xferd  Average Speed   Time    Time     Time  Current\n",
            "                                 Dload  Upload   Total   Spent    Left  Speed\n",
            "100  7810  100  7810    0     0  14704      0 --:--:-- --:--:-- --:--:-- 14708\n",
            "\n",
            "nilup has been installed into /root/.nilup/bin and added to your $PATH in /root/.bashrc.\n",
            "\n",
            "Run 'source /root/.bashrc' or start a new terminal session to use nilup.\n",
            "\n",
            "By providing your Ethereum wallet address, you consent to the collection of telemetry data by the Nillion Network.\n",
            "That includes but is not limited to\n",
            "- The version of the SDK you are using\n",
            "- The OS you are using\n",
            "- The Processor Architecture you are using\n",
            "- The SDK binary that you are running and the subcommand\n",
            "- The wallet address you provided\n",
            "- The errors produced by the SDK\n",
            "We collect this data to understand how the software is used, and to better assist you in case of issues.\n",
            "While we will not collect any personal information, we still recommend using a new wallet address that cannot be linked to your identity by any third party.\n",
            "For more information, our privacy policy is available at https://nillion.com/privacy/.\n",
            "Do you consent to the collection of telemetry data? (yes/no)\n",
            "Telemetry data collection enabled\n",
            "SDK version latest already installed\n",
            "Reinstalling SDK version latest\n",
            "Installing SDK bins version latest\n",
            "Downloading latest/nillion-sdk-bins-x86_64-unknown-linux-musl.tar.gz\n",
            "SDK version latest installed\n",
            "SDK version latest set as default\n",
            "SDK version latest already installed\n",
            "Reinstalling SDK version latest\n",
            "Installing SDK bins version latest\n",
            "Downloading latest/nillion-sdk-bins-x86_64-unknown-linux-musl.tar.gz\n",
            "SDK version latest installed\n",
            "SDK version latest set as default\n"
          ]
        }
      ],
      "source": [
        "# Install the nilup tool and then use that to install the Nillion SDK\n",
        "!curl https://nilup.nilogy.xyz/install.sh | bash\n",
        "\n",
        "# Update Path if ran in colab\n",
        "if \"google.colab\" in sys.modules:\n",
        "    os.environ[\"PATH\"] += \":/root/.nilup/bin\"\n",
        "    os.environ[\"PATH\"] += \":/root/.nilup/sdks/latest/\"\n",
        "\n",
        "# Set telemetry if opted in\n",
        "if enable_telemetry:\n",
        "    identifier = f\"nada-numpy-rational-numbers-{str(uuid.uuid4())}-{my_github_username}\"\n",
        "    !echo 'yes' | nilup instrumentation enable --wallet {identifier}\n",
        "\n",
        "# Install the lastest SDK and initialise it\n",
        "!nilup init\n",
        "!nilup install latest\n",
        "!nilup use latest"
      ]
    },
    {
      "cell_type": "code",
      "execution_count": 4,
      "metadata": {
        "colab": {
          "base_uri": "https://localhost:8080/"
        },
        "id": "L3CluM_vv_7L",
        "outputId": "71ad5c71-e5b9-4f86-ac38-82f0a9282427"
      },
      "outputs": [
        {
          "name": "stdout",
          "output_type": "stream",
          "text": [
            "nohup: appending output to 'nohup.out'\n",
            "# Nillion devnet parameters\n",
            "NILLION_CLUSTER_ID=9e68173f-9c23-4acc-ba81-4f079b639964\n",
            "NILLION_BOOTNODE_MULTIADDRESS=/ip4/127.0.0.1/tcp/37939/p2p/12D3KooWMvw1hEqm7EWSDEyqTb6pNetUVkepahKY6hixuAuMZfJS\n",
            "NILLION_BOOTNODE_WEBSOCKET=/ip4/127.0.0.1/tcp/54936/ws/p2p/12D3KooWMvw1hEqm7EWSDEyqTb6pNetUVkepahKY6hixuAuMZfJS\n",
            "NILLION_NILCHAIN_CHAIN_ID=nillion-chain-devnet\n",
            "NILLION_NILCHAIN_JSON_RPC=http://127.0.0.1:48102\n",
            "NILLION_NILCHAIN_REST_API=http://localhost:26650\n",
            "NILLION_NILCHAIN_GRPC=localhost:26649\n",
            "NILLION_NILCHAIN_PRIVATE_KEY_0=9a975f567428d054f2bf3092812e6c42f901ce07d9711bc77ee2cd81101f42c5\n",
            "NILLION_NILCHAIN_PRIVATE_KEY_1=1e491133b9408b39572a29f91644873decea554224b20e2b0b923aeb860a1c18\n",
            "NILLION_NILCHAIN_PRIVATE_KEY_2=980488572f235316cdb330191f8bafe4e635efbe88b3a40f5bee9bd21047c059\n",
            "NILLION_NILCHAIN_PRIVATE_KEY_3=612bb5173dc60d9e91404fcc0d1f1847fb4459a7d5160d63d84e91aacbf2ab2f\n",
            "NILLION_NILCHAIN_PRIVATE_KEY_4=04f5a984eeea9dce4e5e907da69c01a61568e3071b1a91cbed89225f9fd913b5\n",
            "NILLION_NILCHAIN_PRIVATE_KEY_5=5f992c58921f4af83b4c6b650c4914626664cd02020577b0ada49cfa00d2c8a4\n",
            "NILLION_NILCHAIN_PRIVATE_KEY_6=8f0297d3bb647eb59b95b29550b2aebbedd9be2c954b000e772efe8c9318a42d\n",
            "NILLION_NILCHAIN_PRIVATE_KEY_7=c395243df9bb68dc809668efe4125f0eb017771ed8e3747b8d6860551913fecb\n",
            "NILLION_NILCHAIN_PRIVATE_KEY_8=4bb5eaa799e24ae2b48545c41331921afe7e6a8dd7a850f5fbeb20a8226664ec\n",
            "NILLION_NILCHAIN_PRIVATE_KEY_9=ef4b944d4fdb0077057925fe2dde365dfa2c83cf320463b14589feccd1b2b938\n"
          ]
        }
      ],
      "source": [
        "# Spin up local Nillion devnet\n",
        "!nohup nillion-devnet &\n",
        "\n",
        "time.sleep(20)  # Wait for devnet"
      ]
    },
    {
      "cell_type": "code",
      "execution_count": 5,
      "metadata": {
        "colab": {
          "base_uri": "https://localhost:8080/"
        },
        "id": "4teHBr6W5_Mz",
        "outputId": "5f893313-09f3-42c4-a226-ef05275bdbad"
      },
      "outputs": [
        {
          "name": "stdout",
          "output_type": "stream",
          "text": [
            "Cloning into 'nada-numpy'...\n",
            "remote: Enumerating objects: 1303, done.\u001b[K\n",
            "remote: Counting objects: 100% (643/643), done.\u001b[K\n",
            "remote: Compressing objects: 100% (299/299), done.\u001b[K\n",
            "remote: Total 1303 (delta 443), reused 432 (delta 329), pack-reused 660\u001b[K\n",
            "Receiving objects: 100% (1303/1303), 335.71 KiB | 1.99 MiB/s, done.\n",
            "Resolving deltas: 100% (800/800), done.\n"
          ]
        }
      ],
      "source": [
        "if 'google.colab' in sys.modules:\n",
        "  # If ran in Colab, clone the nada-numpy repo and navigate to the correct directory\n",
        "  if not os.path.exists(\"nada-numpy\"):\n",
        "    !git clone https://github.com/NillionNetwork/nada-numpy.git\n",
        "  os.chdir(\"nada-numpy/examples/rational_numbers\")"
      ]
    },
    {
      "cell_type": "markdown",
      "metadata": {
        "id": "QluoKNsev_7L"
      },
      "source": [
        "# 2. Build Nada program"
      ]
    },
    {
      "cell_type": "markdown",
      "metadata": {
        "id": "rOUmgVosv_7L"
      },
      "source": [
        "We will now build the Nada program specified under `src/rational_numbers.py`\n",
        "\n",
        "You will see that it uses both our `nada-dsl` and `nada-numpy`."
      ]
    },
    {
      "cell_type": "code",
      "execution_count": 6,
      "metadata": {
        "colab": {
          "base_uri": "https://localhost:8080/"
        },
        "id": "RT37dfFhv_7L",
        "outputId": "6567ce1d-5924-44e7-8189-e1733a25c02b"
      },
      "outputs": [
        {
          "name": "stdout",
          "output_type": "stream",
          "text": [
            "Building program: \u001b[1m\u001b[32mrational_numbers\u001b[39m\u001b[0m\n",
            "\u001b[1;32mBuild complete!\u001b[0m\n"
          ]
        }
      ],
      "source": [
        "!nada build"
      ]
    },
    {
      "cell_type": "code",
      "execution_count": 7,
      "metadata": {
        "colab": {
          "base_uri": "https://localhost:8080/"
        },
        "id": "TkWJ_oikv_7M",
        "outputId": "7d0cfa31-561b-48c0-f793-f8126982fe2d"
      },
      "outputs": [
        {
          "name": "stdout",
          "output_type": "stream",
          "text": [
            "rational_numbers.nada.bin\n"
          ]
        }
      ],
      "source": [
        "# You will see that the program was compiled in a .nada.bin file\n",
        "!ls target | grep rational_numbers"
      ]
    },
    {
      "cell_type": "markdown",
      "metadata": {
        "id": "Y6uqc2ZJv_7M"
      },
      "source": [
        "# 3. (optional) Test Nada program"
      ]
    },
    {
      "cell_type": "markdown",
      "metadata": {
        "id": "D0CCBvPhv_7M"
      },
      "source": [
        "This step is optional but we can now test whether our newly compiled program behaves as expected!\n",
        "\n",
        "Under `tests/rational_numbers.yaml`, you will see a test file with provided inputs and expected outputs. We will now test whether if we provide the program with those inputs, the program returns the expected outputs or not.\n",
        "\n",
        "*Note for the nerds: nada testing runs programs on a simulator instead of a network. This means that you can test programs without having a local devnet running!!*"
      ]
    },
    {
      "cell_type": "code",
      "execution_count": 8,
      "metadata": {
        "colab": {
          "base_uri": "https://localhost:8080/"
        },
        "id": "PirYmsCTv_7M",
        "outputId": "21fd91f0-a58d-4928-80b4-6cfc45e523be"
      },
      "outputs": [
        {
          "name": "stdout",
          "output_type": "stream",
          "text": [
            "Running test: \u001b[1m\u001b[32mrational_numbers\u001b[39m\u001b[0m\n",
            "Building ...\n",
            "Running ...\n",
            "rational_numbers: \u001b[1;32mPASS\u001b[0m\n",
            "\n"
          ]
        }
      ],
      "source": [
        "!nada test"
      ]
    },
    {
      "cell_type": "markdown",
      "metadata": {
        "id": "xZUGIJWyv_7M"
      },
      "source": [
        "# 4. Run Nada program"
      ]
    },
    {
      "cell_type": "markdown",
      "metadata": {
        "id": "UGiCRTDOv_7M"
      },
      "source": [
        "The time has come to take our Nada program for a spin!\n",
        "\n",
        "You will see that `main.py` contains some python logic that wants to interface with our brand spanking new Nada program. It uses Nillion's Python SDK to store and run the program on a local devnet."
      ]
    },
    {
      "cell_type": "code",
      "execution_count": 9,
      "metadata": {
        "colab": {
          "base_uri": "https://localhost:8080/"
        },
        "id": "pg15Av1Fv_7M",
        "outputId": "71217461-2be1-46d0-d796-a2d46f4ca862"
      },
      "outputs": [
        {
          "name": "stdout",
          "output_type": "stream",
          "text": [
            "-----STORE PROGRAM\n",
            "Getting quote for operation...\n",
            "Submitting payment receipt 2 unil, tx hash 638074F08F66CB1611A7647A3C141A9F9B181A5506A47D5DD94D3F161B7BFC41\n",
            "Stored program. action_id: 3rgqxWd47e171EUwe4RXP9hm45tmoXfuF8fC52S7jcFoQTnU8wPiL7hqWzyV1muak6bEg7iWhudwg4t2pM9XnXcp/rational_numbers\n",
            "Stored program_id: 3rgqxWd47e171EUwe4RXP9hm45tmoXfuF8fC52S7jcFoQTnU8wPiL7hqWzyV1muak6bEg7iWhudwg4t2pM9XnXcp/rational_numbers\n",
            "-----STORE SECRETS\n",
            "Getting quote for operation...\n",
            "Quote cost is 98 unil\n",
            "Submitting payment receipt 98 unil, tx hash 4E6887EB009B9E95A618BC21BAC27E69C906946E58B5E230F9BBB9FA1519EA27\n",
            "Getting quote for operation...\n",
            "Quote cost is 98 unil\n",
            "Submitting payment receipt 98 unil, tx hash C40DFD01C467B1725D813086CF7556473F44E76155ED7D56E01EE9D2A1F19DE0\n",
            "-----COMPUTE\n",
            "Getting quote for operation...\n",
            "Quote cost is 12 unil\n",
            "Submitting payment receipt 12 unil, tx hash F6BAC8794CC9EC056FB4B752F674657EF65B347FAFD00457857BFBBCEBEEA20F\n",
            "✅  Compute complete for compute_id 4803159a-625f-4809-9d1e-f1c3b18ca398\n",
            "🖥️  The result is {'my_output': 150732}\n",
            "✅  Compute complete\n",
            "🖥️  The result is 2.29998779296875\n"
          ]
        }
      ],
      "source": [
        "!python3 main.py"
      ]
    },
    {
      "cell_type": "markdown",
      "metadata": {
        "id": "Xsjs6dTlv_7M"
      },
      "source": [
        "Excuse my French but voilà, we did it!!\n",
        "\n",
        "To recap, in this example we:\n",
        "- Set up and installed all necessary Nillion libraries and dependencies.\n",
        "- Created and built a Nada program using Nillion's `nada-dsl` and the `nada-numpy` library.\n",
        "- Tested the behaviour of the Nada program.\n",
        "- Ran a Python script that ran a Nada program on a local devnet using Nillion's `py_nillion_client`."
      ]
    }
  ],
  "metadata": {
    "colab": {
      "provenance": []
    },
    "kernelspec": {
      "display_name": "venv",
      "language": "python",
      "name": "python3"
    },
    "language_info": {
      "codemirror_mode": {
        "name": "ipython",
        "version": 3
      },
      "file_extension": ".py",
      "mimetype": "text/x-python",
      "name": "python",
      "nbconvert_exporter": "python",
      "pygments_lexer": "ipython3",
      "version": "3.12.2"
    }
  },
  "nbformat": 4,
  "nbformat_minor": 0
}
