{
  "cells": [
    {
      "cell_type": "markdown",
      "metadata": {
        "id": "tOKatV-Av_7J"
      },
      "source": [
        "# 👋 Welcome to Nillion's Nada Numpy dot product example"
      ]
    },
    {
      "cell_type": "markdown",
      "metadata": {
        "id": "s1idKo5Rv_7K"
      },
      "source": [
        "[![Open in Colab](https://colab.research.google.com/assets/colab-badge.svg)](https://colab.research.google.com/github/NillionNetwork/nada-numpy/blob/main/examples/dot_product/dot_product.ipynb)"
      ]
    },
    {
      "cell_type": "markdown",
      "metadata": {
        "id": "IeHr5pAHv_7K"
      },
      "source": [
        "This notebook will get you familiar with dot product in `nada-numpy`, Nillion's data processing framework on top of the Nada dsl\n",
        "\n",
        "We are really excited for developers to build with our SDK, if you have any questions please do reach out to us on:\n",
        "\n",
        "[![Discord](https://img.shields.io/badge/Discord-nillionnetwork-%235865F2?logo=discord)](https://discord.gg/nillionnetwork)\n",
        "[![GitHub Discussions](https://img.shields.io/badge/GitHub_Discussions-NillionNetwork-%23181717?logo=github)](https://github.com/orgs/NillionNetwork/discussions)"
      ]
    },
    {
      "cell_type": "markdown",
      "metadata": {
        "id": "gcgBmJtPv_7K"
      },
      "source": [
        "# 1. Set up environment"
      ]
    },
    {
      "cell_type": "markdown",
      "metadata": {
        "id": "vL85sjrzv_7K"
      },
      "source": [
        "The boring part!\n",
        "\n",
        "Installs all required dependencies and spins up a local devnet that will run Nada programs"
      ]
    },
    {
      "cell_type": "code",
      "execution_count": 1,
      "metadata": {
        "colab": {
          "base_uri": "https://localhost:8080/"
        },
        "id": "o4PXBlE2v_7K",
        "outputId": "57adf7cd-0d00-4463-b993-45b2d0f3f904"
      },
      "outputs": [
        {
          "name": "stdout",
          "output_type": "stream",
          "text": [
            "\n",
            "\u001b[1m[\u001b[0m\u001b[34;49mnotice\u001b[0m\u001b[1;39;49m]\u001b[0m\u001b[39;49m A new release of pip is available: \u001b[0m\u001b[31;49m23.0.1\u001b[0m\u001b[39;49m -> \u001b[0m\u001b[32;49m24.2\u001b[0m\n",
            "\u001b[1m[\u001b[0m\u001b[34;49mnotice\u001b[0m\u001b[1;39;49m]\u001b[0m\u001b[39;49m To update, run: \u001b[0m\u001b[32;49mpip install --upgrade pip\u001b[0m\n",
            "Note: you may need to restart the kernel to use updated packages.\n"
          ]
        }
      ],
      "source": [
        "%pip install nada-numpy --quiet"
      ]
    },
    {
      "cell_type": "code",
      "execution_count": 2,
      "metadata": {
        "id": "rmTAavFov_7L"
      },
      "outputs": [],
      "source": [
        "import os\n",
        "import time\n",
        "import sys"
      ]
    },
    {
      "cell_type": "code",
      "execution_count": 3,
      "metadata": {},
      "outputs": [],
      "source": [
        "# Configure telemetry settings\n",
        "enable_telemetry = True  #@param {type:\"boolean\"}\n",
        "my_identifier = \"your-telemetry-identifier\"  #@param {type:\"string\"}"
      ]
    },
    {
      "cell_type": "code",
      "execution_count": 4,
      "metadata": {
        "colab": {
          "base_uri": "https://localhost:8080/"
        },
        "id": "GcsYIHINv_7L",
        "outputId": "8089b90e-0f5a-471c-a6b2-ee00acb6b825"
      },
      "outputs": [
        {
          "name": "stdout",
          "output_type": "stream",
          "text": [
            "  % Total    % Received % Xferd  Average Speed   Time    Time     Time  Current\n",
            "                                 Dload  Upload   Total   Spent    Left  Speed\n",
            "100  7810  100  7810    0     0  38052      0 --:--:-- --:--:-- --:--:-- 38097\n",
            "\n",
            "nilup has been installed into /home/vscode/.nilup/bin.\n",
            "\n",
            "$PATH is already up-to-date. You may begin using nilup now!\n",
            "\n",
            "By providing your Ethereum wallet address, you consent to the collection of telemetry data by the Nillion Network.\n",
            "That includes but is not limited to\n",
            "- The version of the SDK you are using\n",
            "- The OS you are using\n",
            "- The Processor Architecture you are using\n",
            "- The SDK binary that you are running and the subcommand\n",
            "- The wallet address you provided\n",
            "- The errors produced by the SDK\n",
            "We collect this data to understand how the software is used, and to better assist you in case of issues.\n",
            "While we will not collect any personal information, we still recommend using a new wallet address that cannot be linked to your identity by any third party.\n",
            "For more information, our privacy policy is available at https://nillion.com/privacy/.\n",
            "Do you consent to the collection of telemetry data? (yes/no)\n",
            "Telemetry data collection enabled\n",
            "SDK version latest already installed\n",
            "Reinstalling SDK version latest\n",
            "Installing SDK bins version latest\n",
            "Downloading latest/nillion-sdk-bins-aarch64-unknown-linux-musl.tar.gz\n",
            "SDK version latest installed\n",
            "SDK version latest set as default\n",
            "SDK version latest already installed\n",
            "Reinstalling SDK version latest\n",
            "Installing SDK bins version latest\n",
            "Downloading latest/nillion-sdk-bins-aarch64-unknown-linux-musl.tar.gz\n",
            "SDK version latest installed\n",
            "SDK version latest set as default\n"
          ]
        }
      ],
      "source": [
        "# Install the nilup tool and then use that to install the Nillion SDK\n",
        "!curl https://nilup.nilogy.xyz/install.sh | bash\n",
        "\n",
        "# Update Path if ran in colab\n",
        "if \"google.colab\" in sys.modules:\n",
        "    os.environ[\"PATH\"] += \":/root/.nilup/bin\"\n",
        "    os.environ[\"PATH\"] += \":/root/.nilup/sdks/latest/\"\n",
        "\n",
        "# Set telemetry if opted in\n",
        "if enable_telemetry:\n",
        "    identifier = \"nada-numpy-dot-product\" + my_identifier\n",
        "    !echo 'yes' | nilup instrumentation enable --wallet {identifier}\n",
        "\n",
        "# Install the lastest SDK and initialise it\n",
        "!nilup init\n",
        "!nilup install latest\n",
        "!nilup use latest"
      ]
    },
    {
      "cell_type": "code",
      "execution_count": 5,
      "metadata": {
        "colab": {
          "base_uri": "https://localhost:8080/"
        },
        "id": "L3CluM_vv_7L",
        "outputId": "cb33ce5c-ec8c-4cf9-f8c2-5213145b6d19"
      },
      "outputs": [
        {
          "name": "stdout",
          "output_type": "stream",
          "text": [
            "ℹ️ cluster id is 9e68173f-9c23-4acc-ba81-4f079b639964\n",
            "ℹ️ using 256 bit prime\n",
            "ℹ️ storing state in /tmp/.tmp6mLDTO (191.79Gbs available)\n",
            "🏃 starting nilchain node in: /tmp/.tmp6mLDTO/nillion-chain\n"
          ]
        },
        {
          "name": "stderr",
          "output_type": "stream",
          "text": [
            "Error: launching nilchain proxy\n",
            "\n",
            "Caused by:\n",
            "    Address in use (os error 98)\n"
          ]
        }
      ],
      "source": [
        "# Spin up local Nillion devnet\n",
        "os.system(\"nohup nillion-devnet &\")\n",
        "\n",
        "time.sleep(5)  # Wait for devnet"
      ]
    },
    {
      "cell_type": "code",
      "execution_count": null,
      "metadata": {},
      "outputs": [],
      "source": []
    },
    {
      "cell_type": "code",
      "execution_count": null,
      "metadata": {},
      "outputs": [],
      "source": []
    },
    {
      "cell_type": "code",
      "execution_count": 6,
      "metadata": {
        "colab": {
          "base_uri": "https://localhost:8080/"
        },
        "id": "4teHBr6W5_Mz",
        "outputId": "c7b02148-dcff-49f2-b255-f34c8ad3cd30"
      },
      "outputs": [],
      "source": [
        "if 'google.colab' in sys.modules:\n",
        "  # If ran in Colab, clone the nada-numpy repo and navigate to the correct directory\n",
        "  if not os.path.exists(\"nada-numpy\"):\n",
        "    !git clone https://github.com/NillionNetwork/nada-numpy.git\n",
        "  os.chdir(\"nada-numpy/examples/linear_regression\")"
      ]
    },
    {
      "cell_type": "markdown",
      "metadata": {
        "id": "QluoKNsev_7L"
      },
      "source": [
        "# 2. Build Nada program"
      ]
    },
    {
      "cell_type": "markdown",
      "metadata": {
        "id": "rOUmgVosv_7L"
      },
      "source": [
        "We will now build the Nada program specified under `src/dot_product.py`\n",
        "\n",
        "You will see that it uses both our `nada-dsl` and `nada-numpy`."
      ]
    },
    {
      "cell_type": "code",
      "execution_count": 7,
      "metadata": {
        "colab": {
          "base_uri": "https://localhost:8080/"
        },
        "id": "RT37dfFhv_7L",
        "outputId": "14fd56cb-507c-46f9-b739-e42160135119"
      },
      "outputs": [
        {
          "name": "stdout",
          "output_type": "stream",
          "text": [
            "Building program: \u001b[1m\u001b[32mgauss_jordan\u001b[39m\u001b[0m\n",
            "\u001b[1;32mBuild complete!\u001b[0m\n",
            "Building program: \u001b[1m\u001b[32mmatrix_inverse\u001b[39m\u001b[0m\n",
            "\u001b[1;32mBuild complete!\u001b[0m\n",
            "Building program: \u001b[1m\u001b[32mlinear_regression\u001b[39m\u001b[0m\n",
            "\u001b[1;32mBuild complete!\u001b[0m\n",
            "Building program: \u001b[1m\u001b[32mmodular_inverse\u001b[39m\u001b[0m\n",
            "\u001b[1;32mBuild complete!\u001b[0m\n",
            "Building program: \u001b[1m\u001b[32mlinear_regression_256\u001b[39m\u001b[0m\n",
            "\u001b[1;32mBuild complete!\u001b[0m\n",
            "Building program: \u001b[1m\u001b[32mdeterminant\u001b[39m\u001b[0m\n",
            "\u001b[1;32mBuild complete!\u001b[0m\n"
          ]
        }
      ],
      "source": [
        "!nada build"
      ]
    },
    {
      "cell_type": "code",
      "execution_count": 8,
      "metadata": {
        "colab": {
          "base_uri": "https://localhost:8080/"
        },
        "id": "TkWJ_oikv_7M",
        "outputId": "bc0cb825-28d8-44ee-dbff-296902f070f8"
      },
      "outputs": [
        {
          "name": "stdout",
          "output_type": "stream",
          "text": [
            "linear_regression.nada.bin\n",
            "linear_regression_256.nada.bin\n"
          ]
        }
      ],
      "source": [
        "# You will see that the program was compiled in a .nada.bin file\n",
        "!ls target | grep linear_regression"
      ]
    },
    {
      "cell_type": "markdown",
      "metadata": {
        "id": "Y6uqc2ZJv_7M"
      },
      "source": [
        "# 3. (optional) Test Nada program"
      ]
    },
    {
      "cell_type": "markdown",
      "metadata": {
        "id": "D0CCBvPhv_7M"
      },
      "source": [
        "This step is optional but we can now test whether our newly compiled program behaves as expected!\n",
        "\n",
        "Under `tests/dot_product.yaml`, you will see a test file with provided inputs and expected outputs. We will now test whether if we provide the program with those inputs, the program returns the expected outputs or not.\n",
        "\n",
        "*Note for the nerds: nada testing runs programs on a simulator instead of a network. This means that you can test programs without having a local devnet running!!*"
      ]
    },
    {
      "cell_type": "code",
      "execution_count": 9,
      "metadata": {
        "colab": {
          "base_uri": "https://localhost:8080/"
        },
        "id": "PirYmsCTv_7M",
        "outputId": "5bdba63c-6108-43da-eed5-ef547a4c9f85"
      },
      "outputs": [
        {
          "name": "stdout",
          "output_type": "stream",
          "text": [
            "Running test: \u001b[1m\u001b[32mlinear_regression_256_1\u001b[39m\u001b[0m\n",
            "Building ...\n",
            "Running ...\n",
            "linear_regression_256_1: \u001b[1;32mPASS\u001b[0m\n",
            "\n",
            "Running test: \u001b[1m\u001b[32mlinear_regression_256_2\u001b[39m\u001b[0m\n",
            "Building ...\n",
            "Running ...\n",
            "linear_regression_256_2: \u001b[1;32mPASS\u001b[0m\n",
            "\n",
            "Running test: \u001b[1m\u001b[32mlinear_regression\u001b[39m\u001b[0m\n",
            "Building ...\n",
            "Running ...\n",
            "linear_regression: \u001b[1;32mPASS\u001b[0m\n",
            "\n",
            "Running test: \u001b[1m\u001b[32mdeterminant-3\u001b[39m\u001b[0m\n",
            "Building ...\n",
            "Running ...\n",
            "determinant-3: \u001b[1;32mPASS\u001b[0m\n",
            "\n",
            "Running test: \u001b[1m\u001b[32mlinear_regression_1\u001b[39m\u001b[0m\n",
            "Building ...\n",
            "Running ...\n",
            "linear_regression_1: \u001b[1;32mPASS\u001b[0m\n",
            "\n",
            "Running test: \u001b[1m\u001b[32mlinear_regression_2\u001b[39m\u001b[0m\n",
            "Building ...\n",
            "Running ...\n",
            "linear_regression_2: \u001b[1;32mPASS\u001b[0m\n",
            "\n",
            "Running test: \u001b[1m\u001b[32mmatrix_inverse\u001b[39m\u001b[0m\n",
            "Building ...\n",
            "Running ...\n",
            "matrix_inverse: \u001b[1;32mPASS\u001b[0m\n",
            "\n",
            "Running test: \u001b[1m\u001b[32mdeterminant_1\u001b[39m\u001b[0m\n",
            "Building ...\n",
            "Running ...\n",
            "determinant_1: \u001b[1;32mPASS\u001b[0m\n",
            "\n",
            "Running test: \u001b[1m\u001b[32mmodular_inverse\u001b[39m\u001b[0m\n",
            "Building ...\n",
            "Running ...\n",
            "modular_inverse: \u001b[1;32mPASS\u001b[0m\n",
            "\n",
            "Running test: \u001b[1m\u001b[32mdeterminant_2\u001b[39m\u001b[0m\n",
            "Building ...\n",
            "Running ...\n",
            "determinant_2: \u001b[1;32mPASS\u001b[0m\n",
            "\n",
            "Running test: \u001b[1m\u001b[32mgauss_jordan\u001b[39m\u001b[0m\n",
            "Building ...\n",
            "Running ...\n",
            "gauss_jordan: \u001b[1;32mPASS\u001b[0m\n",
            "\n"
          ]
        }
      ],
      "source": [
        "!nada test"
      ]
    },
    {
      "cell_type": "markdown",
      "metadata": {
        "id": "xZUGIJWyv_7M"
      },
      "source": [
        "# 4. Run Nada program"
      ]
    },
    {
      "cell_type": "markdown",
      "metadata": {
        "id": "UGiCRTDOv_7M"
      },
      "source": [
        "The time has come to take our Nada program for a spin!\n",
        "\n",
        "You will see that `main.py` contains some python logic that wants to interface with our brand spanking new Nada program. It uses Nillion's Python SDK to store and run the program on a local devnet."
      ]
    },
    {
      "cell_type": "code",
      "execution_count": 10,
      "metadata": {
        "colab": {
          "base_uri": "https://localhost:8080/"
        },
        "id": "pg15Av1Fv_7M",
        "outputId": "66158a03-a0df-41b9-84e1-68b965e6b162"
      },
      "outputs": [
        {
          "name": "stdout",
          "output_type": "stream",
          "text": [
            "-----STORE PROGRAM\n",
            "Getting quote for operation...\n",
            "Traceback (most recent call last):\n",
            "  File \"/workspaces/ai/nada-numpy/examples/linear_regression/main.py\", line 167, in <module>\n",
            "    asyncio.run(main())\n",
            "  File \"/usr/local/lib/python3.10/asyncio/runners.py\", line 44, in run\n",
            "    return loop.run_until_complete(main)\n",
            "  File \"/usr/local/lib/python3.10/asyncio/base_events.py\", line 649, in run_until_complete\n",
            "    return future.result()\n",
            "  File \"/workspaces/ai/nada-numpy/examples/linear_regression/main.py\", line 58, in main\n",
            "    program_id = await store_program(\n",
            "  File \"/workspaces/ai/nada-numpy/examples/common/utils.py\", line 90, in store_program\n",
            "    receipt_store_program = await pay_with_quote(\n",
            "  File \"/home/vscode/.local/lib/python3.10/site-packages/nillion_python_helpers/payments.py\", line 86, in pay_with_quote\n",
            "    submitted_tx = prepare_and_broadcast_basic_transaction(\n",
            "  File \"/home/vscode/.local/lib/python3.10/site-packages/cosmpy/aerial/client/utils.py\", line 49, in prepare_and_broadcast_basic_transaction\n",
            "    account = client.query_account(sender.address())\n",
            "  File \"/home/vscode/.local/lib/python3.10/site-packages/cosmpy/aerial/client/__init__.py\", line 311, in query_account\n",
            "    response = self.auth.Account(request)\n",
            "  File \"/home/vscode/.local/lib/python3.10/site-packages/grpc/_channel.py\", line 1181, in __call__\n",
            "    return _end_unary_response_blocking(state, call, False, None)\n",
            "  File \"/home/vscode/.local/lib/python3.10/site-packages/grpc/_channel.py\", line 1006, in _end_unary_response_blocking\n",
            "    raise _InactiveRpcError(state)  # pytype: disable=not-instantiable\n",
            "grpc._channel._InactiveRpcError: <_InactiveRpcError of RPC that terminated with:\n",
            "\tstatus = StatusCode.UNAVAILABLE\n",
            "\tdetails = \"failed to connect to all addresses; last error: UNKNOWN: ipv4:127.0.0.1:26649: Failed to connect to remote host: connect: Connection refused (111)\"\n",
            "\tdebug_error_string = \"UNKNOWN:Error received from peer  {created_time:\"2024-08-07T10:23:49.706310801+00:00\", grpc_status:14, grpc_message:\"failed to connect to all addresses; last error: UNKNOWN: ipv4:127.0.0.1:26649: Failed to connect to remote host: connect: Connection refused (111)\"}\"\n",
            ">\n"
          ]
        }
      ],
      "source": [
        "!python3 main.py"
      ]
    },
    {
      "cell_type": "markdown",
      "metadata": {
        "id": "Xsjs6dTlv_7M"
      },
      "source": [
        "Excuse my French but voilà, we did it!!\n",
        "\n",
        "To recap, in this example we:\n",
        "- Set up and installed all necessary Nillion libraries and dependencies.\n",
        "- Created and built a Nada program using Nillion's `nada-dsl` and the `nada-numpy` library.\n",
        "- Tested the behaviour of the Nada program.\n",
        "- Ran a Python script that ran a Nada program on a local devnet using Nillion's `py_nillion_client`."
      ]
    }
  ],
  "metadata": {
    "colab": {
      "provenance": []
    },
    "kernelspec": {
      "display_name": "venv",
      "language": "python",
      "name": "python3"
    },
    "language_info": {
      "codemirror_mode": {
        "name": "ipython",
        "version": 3
      },
      "file_extension": ".py",
      "mimetype": "text/x-python",
      "name": "python",
      "nbconvert_exporter": "python",
      "pygments_lexer": "ipython3",
      "version": "3.10.14"
    }
  },
  "nbformat": 4,
  "nbformat_minor": 0
}
