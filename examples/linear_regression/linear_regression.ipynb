{
  "cells": [
    {
      "cell_type": "markdown",
      "metadata": {
        "id": "tOKatV-Av_7J"
      },
      "source": [
        "# 👋 Welcome to Nillion's Nada Numpy Linear Regression Closed Form Training example"
      ]
    },
    {
      "cell_type": "markdown",
      "metadata": {
        "id": "s1idKo5Rv_7K"
      },
      "source": [
        "[![Open in Colab](https://colab.research.google.com/assets/colab-badge.svg)](https://colab.research.google.com/github/NillionNetwork/nada-numpy/blob/main/examples/linear_regression/linear_regression.ipynb)"
      ]
    },
    {
      "cell_type": "markdown",
      "metadata": {
        "id": "IeHr5pAHv_7K"
      },
      "source": [
        "This notebook will get you familiar with linear regression closed-form training in `nada-numpy`, Nillion's data processing framework on top of the Nada dsl\n",
        "\n",
        "We are really excited for developers to build with our SDK, if you have any questions please do reach out to us on:\n",
        "\n",
        "[![Discord](https://img.shields.io/badge/Discord-nillionnetwork-%235865F2?logo=discord)](https://discord.gg/nillionnetwork)\n",
        "[![GitHub Discussions](https://img.shields.io/badge/GitHub_Discussions-NillionNetwork-%23181717?logo=github)](https://github.com/orgs/NillionNetwork/discussions)"
      ]
    },
    {
      "cell_type": "markdown",
      "metadata": {
        "id": "gcgBmJtPv_7K"
      },
      "source": [
        "# 1. Set up environment"
      ]
    },
    {
      "cell_type": "markdown",
      "metadata": {
        "id": "vL85sjrzv_7K"
      },
      "source": [
        "The boring part!\n",
        "\n",
        "Installs all required dependencies and spins up a local devnet that will run Nada programs"
      ]
    },
    {
      "cell_type": "code",
      "execution_count": 1,
      "metadata": {
        "colab": {
          "base_uri": "https://localhost:8080/"
        },
        "id": "o4PXBlE2v_7K",
        "outputId": "57adf7cd-0d00-4463-b993-45b2d0f3f904"
      },
      "outputs": [],
      "source": [
        "%%capture\n",
        "!pip install nada-numpy"
      ]
    },
    {
      "cell_type": "code",
      "execution_count": 2,
      "metadata": {
        "id": "rmTAavFov_7L"
      },
      "outputs": [],
      "source": [
        "import os\n",
        "import time\n",
        "import sys\n",
        "import uuid"
      ]
    },
    {
      "cell_type": "code",
      "execution_count": 3,
      "metadata": {},
      "outputs": [],
      "source": [
        "# Configure telemetry settings\n",
        "enable_telemetry = True  #@param {type:\"boolean\"}\n",
        "my_github_username = \"your-github-username\"  #@param {type:\"string\"}"
      ]
    },
    {
      "cell_type": "code",
      "execution_count": 4,
      "metadata": {
        "colab": {
          "base_uri": "https://localhost:8080/"
        },
        "id": "GcsYIHINv_7L",
        "outputId": "8089b90e-0f5a-471c-a6b2-ee00acb6b825"
      },
      "outputs": [
        {
          "name": "stdout",
          "output_type": "stream",
          "text": [
            "  % Total    % Received % Xferd  Average Speed   Time    Time     Time  Current\n",
            "                                 Dload  Upload   Total   Spent    Left  Speed\n",
            "100  7810  100  7810    0     0  15569      0 --:--:-- --:--:-- --:--:-- 15557\n",
            "\n",
            "nilup has been installed into /home/vscode/.nilup/bin.\n",
            "\n",
            "$PATH is already up-to-date. You may begin using nilup now!\n",
            "\n",
            "By providing your Ethereum wallet address, you consent to the collection of telemetry data by the Nillion Network.\n",
            "That includes but is not limited to\n",
            "- The version of the SDK you are using\n",
            "- The OS you are using\n",
            "- The Processor Architecture you are using\n",
            "- The SDK binary that you are running and the subcommand\n",
            "- The wallet address you provided\n",
            "- The errors produced by the SDK\n",
            "We collect this data to understand how the software is used, and to better assist you in case of issues.\n",
            "While we will not collect any personal information, we still recommend using a new wallet address that cannot be linked to your identity by any third party.\n",
            "For more information, our privacy policy is available at https://nillion.com/privacy/.\n",
            "Do you consent to the collection of telemetry data? (yes/no)\n",
            "Telemetry data collection enabled\n",
            "SDK version latest already installed\n",
            "Reinstalling SDK version latest\n",
            "Installing SDK bins version latest\n",
            "Downloading latest/nillion-sdk-bins-aarch64-unknown-linux-musl.tar.gz\n",
            "SDK version latest installed\n",
            "SDK version latest set as default\n",
            "SDK version latest already installed\n",
            "Reinstalling SDK version latest\n",
            "Installing SDK bins version latest\n",
            "Downloading latest/nillion-sdk-bins-aarch64-unknown-linux-musl.tar.gz\n",
            "SDK version latest installed\n",
            "SDK version latest set as default\n"
          ]
        }
      ],
      "source": [
        "# Install the nilup tool and then use that to install the Nillion SDK\n",
        "!curl https://nilup.nilogy.xyz/install.sh | bash\n",
        "\n",
        "# Update Path if ran in colab\n",
        "if \"google.colab\" in sys.modules:\n",
        "    os.environ[\"PATH\"] += \":/root/.nilup/bin\"\n",
        "    os.environ[\"PATH\"] += \":/root/.nilup/sdks/latest/\"\n",
        "\n",
        "# Set telemetry if opted in\n",
        "if enable_telemetry:\n",
        "    identifier = f\"nada-numpy-linear-regression-cf-{str(uuid.uuid4())}-{my_github_username}\"\n",
        "    !echo 'yes' | nilup instrumentation enable --wallet {identifier}\n",
        "\n",
        "# Install the lastest SDK and initialise it\n",
        "!nilup init\n",
        "!nilup install latest\n",
        "!nilup use latest"
      ]
    },
    {
      "cell_type": "code",
      "execution_count": 5,
      "metadata": {
        "colab": {
          "base_uri": "https://localhost:8080/"
        },
        "id": "L3CluM_vv_7L",
        "outputId": "cb33ce5c-ec8c-4cf9-f8c2-5213145b6d19"
      },
      "outputs": [
        {
          "name": "stdout",
          "output_type": "stream",
          "text": [
            "ℹ️ cluster id is 9e68173f-9c23-4acc-ba81-4f079b639964\n",
            "ℹ️ using 256 bit prime\n",
            "ℹ️ storing state in /tmp/.tmphGXd3q (190.84Gbs available)\n",
            "🏃 starting nilchain node in: /tmp/.tmphGXd3q/nillion-chain\n",
            "⛓  nilchain JSON RPC available at http://127.0.0.1:48102\n",
            "⛓  nilchain REST API available at http://localhost:26650\n",
            "⛓  nilchain gRPC available at localhost:26649\n",
            "🏃 starting node 12D3KooWMvw1hEqm7EWSDEyqTb6pNetUVkepahKY6hixuAuMZfJS\n",
            "⏳ waiting until bootnode is up...\n",
            "🏃 starting node 12D3KooWAiwGZUwSUaT2bYVxGS8jmfMrfsanZYkHwH3uL7WJPsFq\n",
            "🏃 starting node 12D3KooWM3hsAswc7ZT6VpwQ1TCZU4GCYY55nLhcsxCcfjuixW57\n",
            "👛 funding nilchain keys\n",
            "📝 nillion CLI configuration written to /home/vscode/.config/nillion/nillion-cli.yaml\n",
            "🌄 environment file written to /home/vscode/.config/nillion/nillion-devnet.env\n"
          ]
        }
      ],
      "source": [
        "# Spin up local Nillion devnet\n",
        "os.system(\"nohup nillion-devnet &\")\n",
        "\n",
        "time.sleep(5)  # Wait for devnet"
      ]
    },
    {
      "cell_type": "code",
      "execution_count": 6,
      "metadata": {
        "colab": {
          "base_uri": "https://localhost:8080/"
        },
        "id": "4teHBr6W5_Mz",
        "outputId": "c7b02148-dcff-49f2-b255-f34c8ad3cd30"
      },
      "outputs": [],
      "source": [
        "if 'google.colab' in sys.modules:\n",
        "  # If ran in Colab, clone the nada-numpy repo and navigate to the correct directory\n",
        "  if not os.path.exists(\"nada-numpy\"):\n",
        "    !git clone https://github.com/NillionNetwork/nada-numpy.git\n",
        "  os.chdir(\"nada-numpy/examples/linear_regression\")"
      ]
    },
    {
      "cell_type": "markdown",
      "metadata": {
        "id": "QluoKNsev_7L"
      },
      "source": [
        "# 2. Build Nada program"
      ]
    },
    {
      "cell_type": "markdown",
      "metadata": {
        "id": "rOUmgVosv_7L"
      },
      "source": [
        "We will now build the Nada program specified under `src/linear_regression.py`\n",
        "\n",
        "You will see that it uses both our `nada-dsl` and `nada-numpy`."
      ]
    },
    {
      "cell_type": "code",
      "execution_count": 7,
      "metadata": {
        "colab": {
          "base_uri": "https://localhost:8080/"
        },
        "id": "RT37dfFhv_7L",
        "outputId": "14fd56cb-507c-46f9-b739-e42160135119"
      },
      "outputs": [
        {
          "name": "stdout",
          "output_type": "stream",
          "text": [
            "Building program: \u001b[1m\u001b[32mdeterminant\u001b[39m\u001b[0m\n",
            "\u001b[1;32mBuild complete!\u001b[0m\n",
            "Building program: \u001b[1m\u001b[32mgauss_jordan\u001b[39m\u001b[0m\n",
            "\u001b[1;32mBuild complete!\u001b[0m\n",
            "Building program: \u001b[1m\u001b[32mmatrix_inverse\u001b[39m\u001b[0m\n",
            "\u001b[1;32mBuild complete!\u001b[0m\n",
            "Building program: \u001b[1m\u001b[32mlinear_regression_256\u001b[39m\u001b[0m\n",
            "\u001b[1;32mBuild complete!\u001b[0m\n",
            "Building program: \u001b[1m\u001b[32mmodular_inverse\u001b[39m\u001b[0m\n",
            "\u001b[1;32mBuild complete!\u001b[0m\n",
            "Building program: \u001b[1m\u001b[32mlinear_regression\u001b[39m\u001b[0m\n",
            "\u001b[1;32mBuild complete!\u001b[0m\n"
          ]
        }
      ],
      "source": [
        "!nada build"
      ]
    },
    {
      "cell_type": "code",
      "execution_count": 8,
      "metadata": {
        "colab": {
          "base_uri": "https://localhost:8080/"
        },
        "id": "TkWJ_oikv_7M",
        "outputId": "bc0cb825-28d8-44ee-dbff-296902f070f8"
      },
      "outputs": [
        {
          "name": "stdout",
          "output_type": "stream",
          "text": [
            "linear_regression.nada.bin\n",
            "linear_regression_256.nada.bin\n"
          ]
        }
      ],
      "source": [
        "# You will see that the program was compiled in a .nada.bin file\n",
        "!ls target | grep linear_regression"
      ]
    },
    {
      "cell_type": "markdown",
      "metadata": {
        "id": "Y6uqc2ZJv_7M"
      },
      "source": [
        "# 3. (optional) Test Nada program"
      ]
    },
    {
      "cell_type": "markdown",
      "metadata": {
        "id": "D0CCBvPhv_7M"
      },
      "source": [
        "This step is optional but we can now test whether our newly compiled program behaves as expected!\n",
        "\n",
        "Under `tests/linear_regression.yaml`, you will see a test file with provided inputs and expected outputs. We will now test whether if we provide the program with those inputs, the program returns the expected outputs or not.\n",
        "\n",
        "*Note for the nerds: nada testing runs programs on a simulator instead of a network. This means that you can test programs without having a local devnet running!!*"
      ]
    },
    {
      "cell_type": "code",
      "execution_count": 9,
      "metadata": {
        "colab": {
          "base_uri": "https://localhost:8080/"
        },
        "id": "PirYmsCTv_7M",
        "outputId": "5bdba63c-6108-43da-eed5-ef547a4c9f85"
      },
      "outputs": [
        {
          "name": "stdout",
          "output_type": "stream",
          "text": [
            "Running test: \u001b[1m\u001b[32mgauss_jordan\u001b[39m\u001b[0m\n",
            "Building ...\n",
            "Running ...\n",
            "gauss_jordan: \u001b[1;32mPASS\u001b[0m\n",
            "\n",
            "Running test: \u001b[1m\u001b[32mmodular_inverse\u001b[39m\u001b[0m\n",
            "Building ...\n",
            "Running ...\n",
            "modular_inverse: \u001b[1;32mPASS\u001b[0m\n",
            "\n",
            "Running test: \u001b[1m\u001b[32mdeterminant-3\u001b[39m\u001b[0m\n",
            "Building ...\n",
            "Running ...\n",
            "determinant-3: \u001b[1;32mPASS\u001b[0m\n",
            "\n",
            "Running test: \u001b[1m\u001b[32mdeterminant_1\u001b[39m\u001b[0m\n",
            "Building ...\n",
            "Running ...\n",
            "determinant_1: \u001b[1;32mPASS\u001b[0m\n",
            "\n",
            "Running test: \u001b[1m\u001b[32mlinear_regression_256_1\u001b[39m\u001b[0m\n",
            "Building ...\n",
            "Running ...\n",
            "linear_regression_256_1: \u001b[1;32mPASS\u001b[0m\n",
            "\n",
            "Running test: \u001b[1m\u001b[32mlinear_regression_1\u001b[39m\u001b[0m\n",
            "Building ...\n",
            "Running ...\n",
            "linear_regression_1: \u001b[1;32mPASS\u001b[0m\n",
            "\n",
            "Running test: \u001b[1m\u001b[32mlinear_regression_2\u001b[39m\u001b[0m\n",
            "Building ...\n",
            "Running ...\n",
            "linear_regression_2: \u001b[1;32mPASS\u001b[0m\n",
            "\n",
            "Running test: \u001b[1m\u001b[32mlinear_regression_256_2\u001b[39m\u001b[0m\n",
            "Building ...\n",
            "Running ...\n",
            "linear_regression_256_2: \u001b[1;32mPASS\u001b[0m\n",
            "\n",
            "Running test: \u001b[1m\u001b[32mlinear_regression\u001b[39m\u001b[0m\n",
            "Building ...\n",
            "Running ...\n",
            "linear_regression: \u001b[1;32mPASS\u001b[0m\n",
            "\n",
            "Running test: \u001b[1m\u001b[32mdeterminant_2\u001b[39m\u001b[0m\n",
            "Building ...\n",
            "Running ...\n",
            "determinant_2: \u001b[1;32mPASS\u001b[0m\n",
            "\n",
            "Running test: \u001b[1m\u001b[32mmatrix_inverse\u001b[39m\u001b[0m\n",
            "Building ...\n",
            "Running ...\n",
            "matrix_inverse: \u001b[1;32mPASS\u001b[0m\n",
            "\n"
          ]
        }
      ],
      "source": [
        "!nada test"
      ]
    },
    {
      "cell_type": "markdown",
      "metadata": {
        "id": "xZUGIJWyv_7M"
      },
      "source": [
        "# 4. Run Nada program"
      ]
    },
    {
      "cell_type": "markdown",
      "metadata": {
        "id": "UGiCRTDOv_7M"
      },
      "source": [
        "The time has come to take our Nada program for a spin!\n",
        "\n",
        "You will see that `main.py` contains some python logic that wants to interface with our brand spanking new Nada program. It uses Nillion's Python SDK to store and run the program on a local devnet."
      ]
    },
    {
      "cell_type": "code",
      "execution_count": 10,
      "metadata": {
        "colab": {
          "base_uri": "https://localhost:8080/"
        },
        "id": "pg15Av1Fv_7M",
        "outputId": "66158a03-a0df-41b9-84e1-68b965e6b162"
      },
      "outputs": [
        {
          "name": "stdout",
          "output_type": "stream",
          "text": [
            "-----STORE PROGRAM\n",
            "Getting quote for operation...\n",
            "Submitting payment receipt 2 unil, tx hash 739B6965814F546C0BD863F11F46F6441A64579B6D4135D77DDA52085F77CE0D\n",
            "Stored program. action_id: 3rgqxWd47e171EUwe4RXP9hm45tmoXfuF8fC52S7jcFoQTnU8wPiL7hqWzyV1muak6bEg7iWhudwg4t2pM9XnXcp/linear_regression_256\n",
            "Stored program_id: 3rgqxWd47e171EUwe4RXP9hm45tmoXfuF8fC52S7jcFoQTnU8wPiL7hqWzyV1muak6bEg7iWhudwg4t2pM9XnXcp/linear_regression_256\n",
            "-----STORE SECRETS\n",
            "[[-256 -199 -142]\n",
            " [ -85  -28   28]\n",
            " [  85  142  256]]\n",
            "[-256 -199 -142]\n",
            "Getting quote for operation...\n",
            "Quote cost is 866 unil\n",
            "Submitting payment receipt 866 unil, tx hash CE43BFB06691648708025CF7E62045275DA167690199F0966DA4957A84473582\n",
            "Getting quote for operation...\n",
            "Quote cost is 290 unil\n",
            "Submitting payment receipt 290 unil, tx hash C75D3FD188EE5892744BFED97F134124BD68308491DCD4D39669F6D8757D12FF\n",
            "-----COMPUTE\n",
            "Getting quote for operation...\n",
            "Quote cost is 251 unil\n",
            "Submitting payment receipt 251 unil, tx hash 2EB3F5EA7514E835ED8185C875C514AB05E0B3FA448430A1DC89A60C2C80F618\n",
            "✅  Compute complete for compute_id ca66680f-64c2-4e54-99ee-5ec022cbd65a\n",
            "🖥️  The result is {'b': 330643400256, 'w_2': 1868226984, 'w_1': -993683999568, 'w_0': 1102041164640}\n",
            "--------------------\n",
            "🔍  Expected Coefficients:  [ 3.33333333e+00 -3.00000000e+00 -2.09082751e-13]\n",
            "✅  Coefficients:  [ 3.3330203  -3.0053042   0.00565028]\n"
          ]
        }
      ],
      "source": [
        "!python3 main.py"
      ]
    },
    {
      "cell_type": "markdown",
      "metadata": {
        "id": "Xsjs6dTlv_7M"
      },
      "source": [
        "Excuse my French but voilà, we did it!!\n",
        "\n",
        "To recap, in this example we:\n",
        "- Set up and installed all necessary Nillion libraries and dependencies.\n",
        "- Created and built a Nada program using Nillion's `nada-dsl` and the `nada-numpy` library.\n",
        "- Tested the behaviour of the Nada program.\n",
        "- Ran a Python script that ran a Nada program on a local devnet using Nillion's `py_nillion_client`."
      ]
    }
  ],
  "metadata": {
    "colab": {
      "provenance": []
    },
    "kernelspec": {
      "display_name": "venv",
      "language": "python",
      "name": "python3"
    },
    "language_info": {
      "codemirror_mode": {
        "name": "ipython",
        "version": 3
      },
      "file_extension": ".py",
      "mimetype": "text/x-python",
      "name": "python",
      "nbconvert_exporter": "python",
      "pygments_lexer": "ipython3",
      "version": "3.12.2"
    }
  },
  "nbformat": 4,
  "nbformat_minor": 0
}
