{
 "cells": [
  {
   "cell_type": "code",
   "execution_count": 3,
   "metadata": {},
   "outputs": [],
   "source": [
    "import numpy as np\n",
    "\n",
    "LOG_SCALE = 16\n",
    "SCALE = 1 << LOG_SCALE"
   ]
  },
  {
   "cell_type": "code",
   "execution_count": 9,
   "metadata": {},
   "outputs": [
    {
     "name": "stdout",
     "output_type": "stream",
     "text": [
      "Input values are:\n",
      "[3.2, 4.5, 1.2]\n",
      "The transformed values are: \n",
      "3.2 -> 209715\n",
      "4.5 -> 294912\n",
      "1.2 -> 78643\n"
     ]
    }
   ],
   "source": [
    "print(\"Input values are:\")\n",
    "values = [3.2, 4.5, 1.2]\n",
    "print(values)\n",
    "\n",
    "\n",
    "transform = lambda x: round(x * SCALE)\n",
    "values_ = [transform(x) for x in values]\n",
    "\n",
    "print(\"The transformed values are: \")\n",
    "for v, v_ in zip(values, values_):\n",
    "    print(f\"{v} -> {v_}\")"
   ]
  }
 ],
 "metadata": {
  "kernelspec": {
   "display_name": "Python 3",
   "language": "python",
   "name": "python3"
  },
  "language_info": {
   "codemirror_mode": {
    "name": "ipython",
    "version": 3
   },
   "file_extension": ".py",
   "mimetype": "text/x-python",
   "name": "python",
   "nbconvert_exporter": "python",
   "pygments_lexer": "ipython3",
   "version": "3.12.3"
  }
 },
 "nbformat": 4,
 "nbformat_minor": 2
}
